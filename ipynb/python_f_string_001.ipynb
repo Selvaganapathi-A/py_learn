{
 "cells": [
  {
   "cell_type": "code",
   "execution_count": 1,
   "metadata": {},
   "outputs": [
    {
     "data": {
      "text/plain": [
       "'en_in'"
      ]
     },
     "execution_count": 1,
     "metadata": {},
     "output_type": "execute_result"
    }
   ],
   "source": [
    "from datetime import datetime, date, time, timedelta, timezone\n",
    "import locale\n",
    "\n",
    "locale.setlocale(locale.LC_ALL, \"en_in\")"
   ]
  },
  {
   "cell_type": "code",
   "execution_count": 2,
   "metadata": {},
   "outputs": [
    {
     "name": "stdout",
     "output_type": "stream",
     "text": [
      "Number      :                             1000.\n",
      "Binary      :                       1111101000.\n",
      "Octal       :                             1750.\n",
      "Hexadecimal :                              3e8.\n",
      "Number      : 1,348,293,000.00.\n",
      "Number      : 1_348_293_000.00.\n"
     ]
    }
   ],
   "source": [
    "arbitrary_number = 1000\n",
    "\n",
    "print(f\"Number      : {arbitrary_number:32}.\")\n",
    "print(f\"Binary      : {arbitrary_number:32b}.\")\n",
    "print(f\"Octal       : {arbitrary_number:32o}.\")\n",
    "print(f\"Hexadecimal : {arbitrary_number:32x}.\")\n",
    "\n",
    "arbitrary_number = 1348293000\n",
    "print(f\"Number      : {arbitrary_number:,.2f}.\")\n",
    "print(f\"Number      : {arbitrary_number:_.2f}.\")"
   ]
  },
  {
   "cell_type": "code",
   "execution_count": 3,
   "metadata": {},
   "outputs": [
    {
     "name": "stdout",
     "output_type": "stream",
     "text": [
      "Number      :                      10002384923.\n",
      "Number      :                      10002384923.\n",
      "Number      : 10002384923                     .\n",
      "Number      :           10002384923           .\n",
      "\n",
      "Number      : 00000000000000000000000A3E9AB800.\n",
      "Number      :$                 44,00,00,00,000.\n",
      "Number      :$                +44,00,00,00,000.\n",
      "\n",
      "Number      :                 -44,00,00,00,000.\n",
      "Number      :                 -44,00,00,00,000.\n"
     ]
    }
   ],
   "source": [
    "arbitrary_number = 10002384923\n",
    "\n",
    "print(f\"Number      : {arbitrary_number:32}.\")\n",
    "print(f\"Number      : {arbitrary_number:>32}.\")\n",
    "print(f\"Number      : {arbitrary_number:<32}.\")\n",
    "print(f\"Number      : {arbitrary_number:^32}.\")\n",
    "print()\n",
    "arbitrary_number = 44_000_000_000\n",
    "print(f\"Number      : {arbitrary_number:032X}.\")\n",
    "print(f\"Number      :${arbitrary_number:>-32n}.\")\n",
    "print(f\"Number      :${arbitrary_number:+32n}.\")\n",
    "print()\n",
    "arbitrary_number = -44_000000_000\n",
    "print(f\"Number      : {arbitrary_number:-32n}.\")\n",
    "print(f\"Number      : {arbitrary_number:+32n}.\")"
   ]
  },
  {
   "cell_type": "code",
   "execution_count": 4,
   "metadata": {},
   "outputs": [
    {
     "name": "stdout",
     "output_type": "stream",
     "text": [
      "Number      : 20937.65.\n",
      "Number      : ______20937.65______.\n",
      "Number      : 2.1e+04.\n",
      "Number      :        20937.6503483.\n"
     ]
    }
   ],
   "source": [
    "arbitrary_number = 20937.6503483\n",
    "\n",
    "print(f\"Number      : {arbitrary_number:>.2f}.\")\n",
    "print(f\"Number      : {arbitrary_number:_^20.2f}.\")\n",
    "print(f\"Number      : {arbitrary_number:7.2}.\")\n",
    "print(f\"Number      : {arbitrary_number:20}.\")"
   ]
  },
  {
   "cell_type": "code",
   "execution_count": 5,
   "metadata": {},
   "outputs": [
    {
     "name": "stdout",
     "output_type": "stream",
     "text": [
      "Number      : 3e+04.\n",
      "Number      : 29872.\n",
      "Number      : 29872.353.\n",
      "\n",
      "Number      : 72.\n",
      "Number      : 72.\n",
      "Number      : 478,589.\n",
      "Number      : 478_589.4.\n",
      "Number      : 4,589,382,472.353.\n",
      "Number      : 4_589_382_472.353.\n"
     ]
    }
   ],
   "source": [
    "arbitrary_number = 29872.35269503\n",
    "print(f\"Number      : {arbitrary_number:.2g}.\")\n",
    "print(f\"Number      : {arbitrary_number:.5g}.\")\n",
    "print(f\"Number      : {arbitrary_number:.8g}.\")\n",
    "print()\n",
    "\n",
    "arbitrary_number = 72.35269503\n",
    "print(f\"Number      : {arbitrary_number:,.2g}.\")\n",
    "print(f\"Number      : {arbitrary_number:_.2g}.\")\n",
    "arbitrary_number = 478589.35269503\n",
    "print(f\"Number      : {arbitrary_number:,.6g}.\")\n",
    "print(f\"Number      : {arbitrary_number:_.7g}.\")\n",
    "arbitrary_number = 4589382472.35269503\n",
    "print(f\"Number      : {arbitrary_number:,.13g}.\")\n",
    "print(f\"Number      : {arbitrary_number:_.13g}.\")"
   ]
  },
  {
   "cell_type": "code",
   "execution_count": 6,
   "metadata": {},
   "outputs": [
    {
     "name": "stdout",
     "output_type": "stream",
     "text": [
      "Number      : 35.269503%.\n",
      "Number      : 35.27%.\n"
     ]
    }
   ],
   "source": [
    "arbitrary_number = 0.35269503\n",
    "\n",
    "print(f\"Number      : {arbitrary_number:%}.\")\n",
    "print(f\"Number      : {arbitrary_number:.2%}.\")"
   ]
  },
  {
   "cell_type": "code",
   "execution_count": 7,
   "metadata": {},
   "outputs": [
    {
     "name": "stdout",
     "output_type": "stream",
     "text": [
      "2023-06-11T13:40:18.425884+05:30\n",
      "2023-06-11T13:40:18.425884+0530\n",
      "2023-06-11\n",
      "13:40:18\n",
      "2023-06-11\n",
      "06/11/23\n",
      "162\n",
      "June\n",
      "Sunday\n"
     ]
    }
   ],
   "source": [
    "india_timezone = timezone(timedelta(hours=5, minutes=30), name=\"Asia/Calcutta\")\n",
    "australia = timezone(timedelta(hours=1, minutes=0), name=\"Australia\")\n",
    "dt = datetime.now(tz=india_timezone)\n",
    "print(dt.isoformat())\n",
    "print(f\"{dt:%Y-%m-%dT%H:%M:%S.%f%z}\")\n",
    "print(f\"{dt:%Y-%m-%d}\")\n",
    "print(f\"{dt:%H:%M:%S}\")\n",
    "print(f\"{dt:%F}\")\n",
    "print(f\"{dt:%D}\")\n",
    "print(f\"{dt:%j}\")\n",
    "print(f\"{dt:%B}\")\n",
    "print(f\"{dt:%A}\")"
   ]
  },
  {
   "cell_type": "code",
   "execution_count": 8,
   "metadata": {},
   "outputs": [
    {
     "name": "stdout",
     "output_type": "stream",
     "text": [
      "2023-03-12T16:59:59.999000+05:30\n",
      "\n",
      "2023-03-12T16:59:59.999000-07:00\n",
      "2023-03-12T17:00:00-07:00\n",
      "\n",
      "12:30:00\n"
     ]
    }
   ],
   "source": [
    "import pendulum\n",
    "from pendulum import tz\n",
    "\n",
    "india = pendulum.datetime(2023, 3, 12, 16, 59, 59, 999000, tz=\"Asia/Calcutta\")\n",
    "seattle = pendulum.datetime(2023, 3, 12, 16, 59, 59, 999000, tz=\"America/Los_Angeles\")\n",
    "\n",
    "print(india)\n",
    "print()\n",
    "print(seattle)\n",
    "print(seattle+pendulum.duration(milliseconds=1))\n",
    "print()\n",
    "\n",
    "# seattle = pendulum.datetime(2012, 9, 1, 1, 55, 0, 999000, tz=\"America/Toronto\")\n",
    "td:pendulum.Duration = (seattle - india)\n",
    "\n",
    "print(td.as_timedelta())\n",
    "\n",
    "# print(seattle)\n",
    "# for i in range(60):\n",
    "#     seattle = seattle + pendulum.duration(seconds=20)\n",
    "#     print(seattle)"
   ]
  },
  {
   "cell_type": "code",
   "execution_count": null,
   "metadata": {},
   "outputs": [],
   "source": []
  }
 ],
 "metadata": {
  "kernelspec": {
   "display_name": ".venv",
   "language": "python",
   "name": "python3"
  },
  "language_info": {
   "codemirror_mode": {
    "name": "ipython",
    "version": 3
   },
   "file_extension": ".py",
   "mimetype": "text/x-python",
   "name": "python",
   "nbconvert_exporter": "python",
   "pygments_lexer": "ipython3",
   "version": "3.11.3"
  },
  "orig_nbformat": 4
 },
 "nbformat": 4,
 "nbformat_minor": 2
}
