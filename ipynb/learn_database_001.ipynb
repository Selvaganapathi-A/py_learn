{
 "cells": [
  {
   "cell_type": "code",
   "execution_count": 1,
   "id": "61d91622-2ad5-456e-89a3-c1a87870a58f",
   "metadata": {},
   "outputs": [],
   "source": [
    "import logging\n",
    "import psycopg2 as pg\n",
    "\n",
    "# - *dbname*: the database name\n",
    "# - *database*: the database name (only as keyword argument)\n",
    "# - *user*: user name used to authenticate\n",
    "# - *password*: password used to authenticate\n",
    "# - *host*: database host address (defaults to UNIX socket if not provided)\n",
    "# - *port*: connection port number (defaults to 5432 if not provided)\n",
    "connection = pg.connect(\n",
    "    user='Tesla', database='postgres', host='localhost', port=6543\n",
    ")\n",
    "cursor = connection.cursor()\n",
    "\n",
    "# connection.close()"
   ]
  },
  {
   "cell_type": "code",
   "execution_count": 3,
   "id": "ce353fc4-7775-4c80-823d-1c79f3de39d7",
   "metadata": {},
   "outputs": [],
   "source": [
    "# Display all Tables Present in Database\n",
    "def show_tables():\n",
    "    try:\n",
    "        Query = \"\"\"\n",
    "    select tablename from pg_tables where tablename not like 'pg_%';\n",
    "    \"\"\"\n",
    "        cursor.execute(Query)\n",
    "        for i, x in enumerate(cursor.fetchall(), start=1):\n",
    "            print(f'{i:^5d} : {x[0]}')\n",
    "        connection.commit()\n",
    "    except Exception as e:\n",
    "        logging.exception(e)\n",
    "        connection.rollback()"
   ]
  },
  {
   "cell_type": "code",
   "execution_count": 4,
   "id": "a23c7620-1f49-4e2b-8c75-b18bcf8d9ed2",
   "metadata": {},
   "outputs": [
    {
     "name": "stdout",
     "output_type": "stream",
     "text": [
      "(Column(name='int_arr', type_code=23),)\n",
      "  1   : 2\n",
      "(Column(name='int_arr', type_code=23),)\n",
      "  1   : 5\n",
      "(Column(name='int_arr', type_code=1007),)\n",
      "  1   : [2, 3, 4, 5, 6]\n",
      "(Column(name='array_dims', type_code=25),)\n",
      "  1   : [1:3]\n",
      "(Column(name='array_dims', type_code=25),)\n",
      "  1   : [1:4][1:3]\n"
     ]
    }
   ],
   "source": [
    "## Arrays\n",
    "try:\n",
    "    # select '3rd' element from Array\n",
    "    Query = \"\"\"\n",
    "WITH arr AS (SELECT ARRAY[0,1,2,3,4,5,6,7,8,9,0] int_arr) SELECT int_arr[3] FROM arr;\n",
    "\"\"\"\n",
    "    cursor.execute(Query)\n",
    "    print(cursor.description)\n",
    "    for i, x in enumerate(cursor.fetchmany(100), start=1):\n",
    "        print(f'{i:^5d} : {x[0]}')\n",
    "\n",
    "    # select '2nd row 3rd Column element'\n",
    "    Query = \"\"\"\n",
    "WITH arr AS (SELECT ARRAY[[0,1,2], [3,4,5], [6,7,8], [4,3,65]] int_arr) SELECT int_arr[2][3] FROM arr;\n",
    "\"\"\"\n",
    "    cursor.execute(Query)\n",
    "    print(cursor.description)\n",
    "    for i, x in enumerate(cursor.fetchmany(100), start=1):\n",
    "        print(f'{i:^5d} : {x[0]}')\n",
    "\n",
    "    # select elements by index Range from Array '3rd to 7th element'\n",
    "    Query = \"\"\"\n",
    "WITH arr AS (SELECT ARRAY[0,1,2,3,4,5,6,7,8,9,0] int_arr) SELECT int_arr[3:7] FROM arr;\n",
    "\"\"\"\n",
    "    cursor.execute(Query)\n",
    "    print(cursor.description)\n",
    "    for i, x in enumerate(cursor.fetchmany(100), start=1):\n",
    "        print(f'{i:^5d} : {x[0]}')\n",
    "    # array dimensions 1 row 3 column\n",
    "    Query = \"\"\"\n",
    "WITH arr AS (SELECT ARRAY[0,1,2] int_arr) SELECT ARRAY_DIMS(int_arr) FROM arr;\n",
    "\"\"\"\n",
    "    cursor.execute(Query)\n",
    "    print(cursor.description)\n",
    "    for i, x in enumerate(cursor.fetchmany(100), start=1):\n",
    "        print(f'{i:^5d} : {x[0]}')\n",
    "    # array dimensions 4 row 3 column\n",
    "    Query = \"\"\"\n",
    "WITH arr AS (SELECT ARRAY[[0,1,2], [3,4,5], [6,7,8], [4,3,65]] int_arr) SELECT ARRAY_DIMS(int_arr) FROM arr;\n",
    "\"\"\"\n",
    "    cursor.execute(Query)\n",
    "    print(cursor.description)\n",
    "    for i, x in enumerate(cursor.fetchmany(100), start=1):\n",
    "        print(f'{i:^5d} : {x[0]}')\n",
    "\n",
    "    connection.commit()\n",
    "except Exception as e:\n",
    "    logging.exception(e)\n",
    "    connection.rollback()"
   ]
  },
  {
   "cell_type": "code",
   "execution_count": 5,
   "id": "45490809-9684-46a6-be16-5adffce1f7dd",
   "metadata": {},
   "outputs": [
    {
     "name": "stdout",
     "output_type": "stream",
     "text": [
      "(Column(name='date', type_code=1082),)\n",
      "  1   : 2022-02-28\n",
      "(Column(name='to_char', type_code=25),)\n",
      "  1   : 16 Jan 2022 04:40:32PM\n",
      "(Column(name='to_char', type_code=25),)\n",
      "  1   : Today is Monday, the 16th day of the month of January of 2023\n",
      "(Column(name='to_char', type_code=25),)\n",
      "  1   : Friday, 12 de August del año 2016\n"
     ]
    }
   ],
   "source": [
    "# Datetime Operations\n",
    "try:\n",
    "    Query = \"\"\"\n",
    "SELECT (DATE_TRUNC('MONTH', ('202202'||'01')::DATE) + INTERVAL '1 MONTH - 1 day')::DATE;\n",
    "\"\"\"\n",
    "    cursor.execute(Query)\n",
    "    print(cursor.description)\n",
    "    for i, x in enumerate(cursor.fetchmany(100), start=1):\n",
    "        print(f'{i:^5d} : {x[0]}')\n",
    "\n",
    "    Query = \"\"\"\n",
    "SELECT TO_CHAR('2022-01-16 16:40:32'::TIMESTAMP, 'DD Mon YYYY HH:MI:SSPM');\n",
    "\"\"\"\n",
    "    cursor.execute(Query)\n",
    "    print(cursor.description)\n",
    "    for i, x in enumerate(cursor.fetchmany(100), start=1):\n",
    "        print(f'{i:^5d} : {x[0]}')\n",
    "\n",
    "    Query = \"\"\"\n",
    "SELECT TO_CHAR('2023-01-16 16:40:32'::TIMESTAMP,\n",
    " '\"Today is \"FMDay\", the \"DDth\" day of the month of \"FMMonth\" of \"YYYY');\n",
    "\"\"\"\n",
    "    cursor.execute(Query)\n",
    "    print(cursor.description)\n",
    "    for i, x in enumerate(cursor.fetchmany(100), start=1):\n",
    "        print(f'{i:^5d} : {x[0]}')\n",
    "\n",
    "    Query = \"\"\"\n",
    "SELECT TO_CHAR('2016-08-12 16:40:32'::TIMESTAMP, 'TMDay, DD\" de \"TMMonth\" del año \"YYYY')\n",
    "\"\"\"\n",
    "    cursor.execute(Query)\n",
    "    print(cursor.description)\n",
    "    for i, x in enumerate(cursor.fetchmany(100), start=1):\n",
    "        print(f'{i:^5d} : {x[0]}')\n",
    "    connection.commit()\n",
    "except Exception as e:\n",
    "    logging.exception(e)\n",
    "    connection.rollback()"
   ]
  },
  {
   "cell_type": "code",
   "execution_count": 6,
   "id": "cca2f07f-6d4c-48de-b744-e09620fd83f6",
   "metadata": {},
   "outputs": [
    {
     "name": "stdout",
     "output_type": "stream",
     "text": [
      "  1   : person_pk\n",
      "  2   : person\n",
      "  3   : sql_features\n",
      "  4   : sql_implementation_info\n",
      "  5   : sql_parts\n",
      "  6   : sql_sizing\n"
     ]
    }
   ],
   "source": [
    "try:\n",
    "    Query = \"\"\"\n",
    "CREATE TABLE if not exists person (\n",
    " person_id BIGINT NOT NULL,\n",
    " last_name VARCHAR(255) NOT NULL,\n",
    " first_name VARCHAR(255),\n",
    " age INT NOT NULL,\n",
    " PRIMARY KEY (person_id)\n",
    ");\n",
    "\"\"\"\n",
    "    cursor.execute(Query)\n",
    "    show_tables()\n",
    "    connection.commit()\n",
    "except Exception as e:\n",
    "    logging.exception(e)\n",
    "    connection.rollback()"
   ]
  },
  {
   "cell_type": "code",
   "execution_count": 7,
   "id": "844c3191-6856-4ece-9d28-2765bd7bf25f",
   "metadata": {},
   "outputs": [
    {
     "name": "stdout",
     "output_type": "stream",
     "text": [
      "  1   : person_pk\n",
      "  2   : person\n",
      "  3   : person_unlogged\n",
      "  4   : sql_features\n",
      "  5   : sql_implementation_info\n",
      "  6   : sql_parts\n",
      "  7   : sql_sizing\n"
     ]
    }
   ],
   "source": [
    "try:\n",
    "    Query = \"\"\"\n",
    "CREATE UNLOGGED TABLE person_unlogged (\n",
    " person_id BIGINT NOT NULL PRIMARY KEY,\n",
    " last_name VARCHAR(255) NOT NULL,\n",
    " first_name VARCHAR(255),\n",
    " address VARCHAR(255),\n",
    " city VARCHAR(255)\n",
    ");\n",
    "\"\"\"\n",
    "    cursor.execute(Query)\n",
    "    connection.commit()\n",
    "    show_tables()\n",
    "\n",
    "except Exception as e:\n",
    "    logging.exception(e)\n",
    "    connection.rollback()"
   ]
  },
  {
   "cell_type": "code",
   "execution_count": 9,
   "id": "94ba1979-5018-4d1e-8a48-abd84bd4744e",
   "metadata": {},
   "outputs": [
    {
     "name": "stdout",
     "output_type": "stream",
     "text": [
      "  1   : person_pk\n",
      "  2   : person\n",
      "  3   : person_unlogged\n",
      "  4   : sql_features\n",
      "  5   : sql_implementation_info\n",
      "  6   : sql_parts\n",
      "  7   : sql_sizing\n"
     ]
    }
   ],
   "source": [
    "try:\n",
    "    Query = \"\"\"\n",
    "CREATE TABLE if not exists person_pk (\n",
    " person_id BIGINT NOT NULL,\n",
    " last_name VARCHAR(255) NOT NULL,\n",
    " first_name VARCHAR(255),\n",
    " address VARCHAR(255),\n",
    " city VARCHAR(255),\n",
    " PRIMARY KEY (person_id)\n",
    ");\n",
    "\"\"\"\n",
    "    cursor.execute(Query)\n",
    "    connection.commit()\n",
    "    show_tables()\n",
    "\n",
    "except Exception as e:\n",
    "    logging.exception(e)\n",
    "    connection.rollback()"
   ]
  },
  {
   "cell_type": "code",
   "execution_count": null,
   "id": "87a69bcb-e1bd-4aa9-a5d7-31149f111cb1",
   "metadata": {},
   "outputs": [],
   "source": [
    "try:\n",
    "    Query = \"\"\"\n",
    "\n",
    "\"\"\"\n",
    "    cursor.execute(Query)\n",
    "    print(cursor.description)\n",
    "    for i, x in enumerate(cursor.fetchmany(100), start=1):\n",
    "        print(f'{i:^5d} : {x[0]}')\n",
    "\n",
    "    connection.commit()\n",
    "except Exception as e:\n",
    "    logging.exception(e)\n",
    "    connection.rollback()"
   ]
  }
 ],
 "metadata": {
  "kernelspec": {
   "display_name": "Python 3 (ipykernel)",
   "language": "python",
   "name": "python3"
  },
  "language_info": {
   "codemirror_mode": {
    "name": "ipython",
    "version": 3
   },
   "file_extension": ".py",
   "mimetype": "text/x-python",
   "name": "python",
   "nbconvert_exporter": "python",
   "pygments_lexer": "ipython3",
   "version": "3.12.0"
  }
 },
 "nbformat": 4,
 "nbformat_minor": 5
}
